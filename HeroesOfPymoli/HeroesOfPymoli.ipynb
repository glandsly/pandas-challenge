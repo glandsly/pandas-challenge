{
 "cells": [
  {
   "cell_type": "markdown",
   "metadata": {},
   "source": [
    "### Note\n",
    "* Instructions have been included for each segment. You do not have to follow them exactly, but they are included to help you think through the steps."
   ]
  },
  {
   "cell_type": "code",
   "execution_count": 1,
   "metadata": {},
   "outputs": [],
   "source": [
    "# Dependencies and Setup\n",
    "import pandas as pd\n",
    "\n",
    "# File to Load (Remember to Change These)\n",
    "file_to_load = \"Resources/purchase_data.csv\"\n",
    "\n",
    "# Read Purchasing File and store into Pandas data frame\n",
    "purchase_data = pd.read_csv(file_to_load)"
   ]
  },
  {
   "cell_type": "markdown",
   "metadata": {},
   "source": [
    "## Player Count"
   ]
  },
  {
   "cell_type": "markdown",
   "metadata": {},
   "source": [
    "* Display the total number of players\n"
   ]
  },
  {
   "cell_type": "code",
   "execution_count": 2,
   "metadata": {},
   "outputs": [
    {
     "data": {
      "text/html": "<div>\n<style scoped>\n    .dataframe tbody tr th:only-of-type {\n        vertical-align: middle;\n    }\n\n    .dataframe tbody tr th {\n        vertical-align: top;\n    }\n\n    .dataframe thead th {\n        text-align: right;\n    }\n</style>\n<table border=\"1\" class=\"dataframe\">\n  <thead>\n    <tr style=\"text-align: right;\">\n      <th></th>\n      <th>Total Players</th>\n    </tr>\n  </thead>\n  <tbody>\n    <tr>\n      <td>0</td>\n      <td>576</td>\n    </tr>\n  </tbody>\n</table>\n</div>",
      "text/plain": "   Total Players\n0            576"
     },
     "execution_count": 2,
     "metadata": {},
     "output_type": "execute_result"
    }
   ],
   "source": [
    "purchase_data_df = pd.DataFrame(purchase_data)\n",
    "total_players = purchase_data_df['SN'].nunique()\n",
    "\n",
    "total_players_df = pd.DataFrame([total_players], columns=['Total Players'])\n",
    "total_players_df"
   ]
  },
  {
   "cell_type": "markdown",
   "metadata": {},
   "source": [
    "## Purchasing Analysis (Total)"
   ]
  },
  {
   "cell_type": "markdown",
   "metadata": {},
   "source": [
    "* Run basic calculations to obtain number of unique items, average price, etc.\n",
    "\n",
    "\n",
    "* Create a summary data frame to hold the results\n",
    "\n",
    "\n",
    "* Optional: give the displayed data cleaner formatting\n",
    "\n",
    "\n",
    "* Display the summary data frame\n"
   ]
  },
  {
   "cell_type": "code",
   "execution_count": 3,
   "metadata": {},
   "outputs": [
    {
     "data": {
      "text/html": "<div>\n<style scoped>\n    .dataframe tbody tr th:only-of-type {\n        vertical-align: middle;\n    }\n\n    .dataframe tbody tr th {\n        vertical-align: top;\n    }\n\n    .dataframe thead th {\n        text-align: right;\n    }\n</style>\n<table border=\"1\" class=\"dataframe\">\n  <thead>\n    <tr style=\"text-align: right;\">\n      <th></th>\n      <th>Number of Unique Items</th>\n      <th>Average Price</th>\n      <th>Number of Purchases</th>\n      <th>Total Revenue</th>\n    </tr>\n  </thead>\n  <tbody>\n    <tr>\n      <td>0</td>\n      <td>183</td>\n      <td>$3.05</td>\n      <td>780</td>\n      <td>$2379.77</td>\n    </tr>\n  </tbody>\n</table>\n</div>",
      "text/plain": "   Number of Unique Items Average Price  Number of Purchases Total Revenue\n0                     183         $3.05                  780      $2379.77"
     },
     "execution_count": 3,
     "metadata": {},
     "output_type": "execute_result"
    }
   ],
   "source": [
    "uniqueItems = purchase_data_df['Item ID'].nunique()\n",
    "avgPrice = purchase_data_df['Price'].mean()\n",
    "total_purchases = purchase_data_df['Purchase ID'].count()\n",
    "total_revenue = purchase_data_df['Price'].sum()\n",
    "\n",
    "summary_df = pd.DataFrame({'Number of Unique Items': [uniqueItems], 'Average Price': avgPrice, 'Number of Purchases': total_purchases, 'Total Revenue': total_revenue})\n",
    "summary_df['Average Price'] = summary_df['Average Price'].map(\"${:.2f}\".format)\n",
    "summary_df['Total Revenue'] = summary_df['Total Revenue'].map(\"${:.2f}\".format)\n",
    "summary_df"
   ]
  },
  {
   "cell_type": "markdown",
   "metadata": {},
   "source": [
    "## Gender Demographics"
   ]
  },
  {
   "cell_type": "markdown",
   "metadata": {},
   "source": [
    "* Percentage and Count of Male Players\n",
    "\n",
    "\n",
    "* Percentage and Count of Female Players\n",
    "\n",
    "\n",
    "* Percentage and Count of Other / Non-Disclosed\n",
    "\n",
    "\n"
   ]
  },
  {
   "cell_type": "code",
   "execution_count": 4,
   "metadata": {},
   "outputs": [
    {
     "data": {
      "text/html": "<div>\n<style scoped>\n    .dataframe tbody tr th:only-of-type {\n        vertical-align: middle;\n    }\n\n    .dataframe tbody tr th {\n        vertical-align: top;\n    }\n\n    .dataframe thead th {\n        text-align: right;\n    }\n</style>\n<table border=\"1\" class=\"dataframe\">\n  <thead>\n    <tr style=\"text-align: right;\">\n      <th></th>\n      <th>Total Count</th>\n      <th>Percentage of Players</th>\n    </tr>\n  </thead>\n  <tbody>\n    <tr>\n      <td>Male</td>\n      <td>484</td>\n      <td>84.03%</td>\n    </tr>\n    <tr>\n      <td>Female</td>\n      <td>81</td>\n      <td>14.06%</td>\n    </tr>\n    <tr>\n      <td>Other / Non-Disclosed</td>\n      <td>11</td>\n      <td>1.91%</td>\n    </tr>\n  </tbody>\n</table>\n</div>",
      "text/plain": "                       Total Count Percentage of Players\nMale                           484                84.03%\nFemale                          81                14.06%\nOther / Non-Disclosed           11                 1.91%"
     },
     "execution_count": 4,
     "metadata": {},
     "output_type": "execute_result"
    }
   ],
   "source": [
    "no_duplicates_df = purchase_data_df.drop_duplicates(subset='SN', keep='first')\n",
    "gender_df = pd.DataFrame(no_duplicates_df['Gender'].value_counts())\n",
    "gender_df['Percentage of Players'] = (gender_df['Gender']/total_players)*100\n",
    "\n",
    "gender_df = gender_df.rename(columns={'Gender': 'Total Count'})\n",
    "gender_df['Percentage of Players'] = gender_df['Percentage of Players'].map(\"{:.2f}%\".format)\n",
    "\n",
    "gender_df"
   ]
  },
  {
   "cell_type": "markdown",
   "metadata": {},
   "source": [
    "\n",
    "## Purchasing Analysis (Gender)"
   ]
  },
  {
   "cell_type": "markdown",
   "metadata": {},
   "source": [
    "* Run basic calculations to obtain purchase count, avg. purchase price, avg. purchase total per person etc. by gender\n",
    "\n",
    "\n",
    "\n",
    "\n",
    "* Create a summary data frame to hold the results\n",
    "\n",
    "\n",
    "* Optional: give the displayed data cleaner formatting\n",
    "\n",
    "\n",
    "* Display the summary data frame"
   ]
  },
  {
   "cell_type": "code",
   "execution_count": 5,
   "metadata": {},
   "outputs": [
    {
     "data": {
      "text/html": "<div>\n<style scoped>\n    .dataframe tbody tr th:only-of-type {\n        vertical-align: middle;\n    }\n\n    .dataframe tbody tr th {\n        vertical-align: top;\n    }\n\n    .dataframe thead th {\n        text-align: right;\n    }\n</style>\n<table border=\"1\" class=\"dataframe\">\n  <thead>\n    <tr style=\"text-align: right;\">\n      <th></th>\n      <th>Purchase Count</th>\n      <th>Average Purchase Price</th>\n      <th>Total Purchase Value</th>\n      <th>Avg Total Purchase per Person</th>\n    </tr>\n    <tr>\n      <th>Gender</th>\n      <th></th>\n      <th></th>\n      <th></th>\n      <th></th>\n    </tr>\n  </thead>\n  <tbody>\n    <tr>\n      <td>Female</td>\n      <td>113</td>\n      <td>$3.20</td>\n      <td>$361.94</td>\n      <td>$4.47</td>\n    </tr>\n    <tr>\n      <td>Male</td>\n      <td>652</td>\n      <td>$3.02</td>\n      <td>$1,967.64</td>\n      <td>$4.07</td>\n    </tr>\n    <tr>\n      <td>Other / Non-Disclosed</td>\n      <td>15</td>\n      <td>$3.35</td>\n      <td>$50.19</td>\n      <td>$4.56</td>\n    </tr>\n  </tbody>\n</table>\n</div>",
      "text/plain": "                       Purchase Count Average Purchase Price  \\\nGender                                                         \nFemale                            113                  $3.20   \nMale                              652                  $3.02   \nOther / Non-Disclosed              15                  $3.35   \n\n                      Total Purchase Value Avg Total Purchase per Person  \nGender                                                                    \nFemale                             $361.94                         $4.47  \nMale                             $1,967.64                         $4.07  \nOther / Non-Disclosed               $50.19                         $4.56  "
     },
     "execution_count": 5,
     "metadata": {},
     "output_type": "execute_result"
    }
   ],
   "source": [
    "gender_purchase_df = purchase_data_df.groupby(['Gender'])\n",
    "gender_purchase_count = gender_purchase_df['Purchase ID'].count()\n",
    "gender_avg_pur_price = gender_purchase_df['Price'].mean()\n",
    "gender_total_purchase = gender_purchase_df['Price'].sum()\n",
    "avg_purchase = gender_total_purchase/gender_df['Total Count']\n",
    "\n",
    "gender_summary_df = pd.DataFrame(pd.concat([gender_purchase_count, gender_avg_pur_price, gender_total_purchase, avg_purchase], axis=1))\n",
    "gender_summary_df.columns = ['Purchase Count','Average Purchase Price', 'Total Purchase Value', 'Avg Total Purchase per Person']\n",
    "gender_summary_df['Average Purchase Price'] = gender_summary_df['Average Purchase Price'].map(\"${:.2f}\".format)\n",
    "gender_summary_df['Avg Total Purchase per Person'] = gender_summary_df['Avg Total Purchase per Person'].map(\"${:.2f}\".format)\n",
    "gender_summary_df['Total Purchase Value'] = gender_summary_df['Total Purchase Value'].map(\"${:,.2f}\".format)\n",
    "gender_summary_df"
   ]
  },
  {
   "cell_type": "markdown",
   "metadata": {},
   "source": [
    "## Age Demographics"
   ]
  },
  {
   "cell_type": "markdown",
   "metadata": {},
   "source": [
    "* Establish bins for ages\n",
    "\n",
    "\n",
    "* Categorize the existing players using the age bins. Hint: use pd.cut()\n",
    "\n",
    "\n",
    "* Calculate the numbers and percentages by age group\n",
    "\n",
    "\n",
    "* Create a summary data frame to hold the results\n",
    "\n",
    "\n",
    "* Optional: round the percentage column to two decimal points\n",
    "\n",
    "\n",
    "* Display Age Demographics Table\n"
   ]
  },
  {
   "cell_type": "code",
   "execution_count": 6,
   "metadata": {},
   "outputs": [
    {
     "data": {
      "text/html": "<div>\n<style scoped>\n    .dataframe tbody tr th:only-of-type {\n        vertical-align: middle;\n    }\n\n    .dataframe tbody tr th {\n        vertical-align: top;\n    }\n\n    .dataframe thead th {\n        text-align: right;\n    }\n</style>\n<table border=\"1\" class=\"dataframe\">\n  <thead>\n    <tr style=\"text-align: right;\">\n      <th></th>\n      <th>Total Count</th>\n      <th>Percentage of Players</th>\n    </tr>\n  </thead>\n  <tbody>\n    <tr>\n      <td>&lt;10</td>\n      <td>17</td>\n      <td>2.95%</td>\n    </tr>\n    <tr>\n      <td>10-14</td>\n      <td>22</td>\n      <td>3.82%</td>\n    </tr>\n    <tr>\n      <td>15-19</td>\n      <td>107</td>\n      <td>18.58%</td>\n    </tr>\n    <tr>\n      <td>20-24</td>\n      <td>258</td>\n      <td>44.79%</td>\n    </tr>\n    <tr>\n      <td>25-29</td>\n      <td>77</td>\n      <td>13.37%</td>\n    </tr>\n    <tr>\n      <td>30-34</td>\n      <td>52</td>\n      <td>9.03%</td>\n    </tr>\n    <tr>\n      <td>35-39</td>\n      <td>31</td>\n      <td>5.38%</td>\n    </tr>\n    <tr>\n      <td>40+</td>\n      <td>12</td>\n      <td>2.08%</td>\n    </tr>\n  </tbody>\n</table>\n</div>",
      "text/plain": "       Total Count Percentage of Players\n<10             17                 2.95%\n10-14           22                 3.82%\n15-19          107                18.58%\n20-24          258                44.79%\n25-29           77                13.37%\n30-34           52                 9.03%\n35-39           31                 5.38%\n40+             12                 2.08%"
     },
     "execution_count": 6,
     "metadata": {},
     "output_type": "execute_result"
    }
   ],
   "source": [
    "bins = [-1, 9, 14, 19, 24, 29, 34, 39, 200]\n",
    "group_names = [\"<10\", \"10-14\", \"15-19\", \"20-24\", \"25-29\", \"30-34\", \"35-39\", \"40+\"]\n",
    "pd.options.mode.chained_assignment = None\n",
    "\n",
    "no_duplicates_df['Age Group'] = pd.cut(no_duplicates_df[\"Age\"], bins, labels=group_names)\n",
    "age_df = pd.DataFrame(no_duplicates_df['Age Group'].value_counts(sort=False))\n",
    "age_df['Percentage of Players'] = (age_df['Age Group']/total_players)*100\n",
    "age_df['Percentage of Players'] = age_df['Percentage of Players'].map(\"{:.2f}%\".format)\n",
    "age_df = age_df.rename(columns={'Age Group': 'Total Count'})\n",
    "age_df"
   ]
  },
  {
   "cell_type": "markdown",
   "metadata": {},
   "source": [
    "## Purchasing Analysis (Age)"
   ]
  },
  {
   "cell_type": "markdown",
   "metadata": {},
   "source": [
    "* Bin the purchase_data data frame by age\n",
    "\n",
    "\n",
    "* Run basic calculations to obtain purchase count, avg. purchase price, avg. purchase total per person etc. in the table below\n",
    "\n",
    "\n",
    "* Create a summary data frame to hold the results\n",
    "\n",
    "\n",
    "* Optional: give the displayed data cleaner formatting\n",
    "\n",
    "\n",
    "* Display the summary data frame"
   ]
  },
  {
   "cell_type": "code",
   "execution_count": 7,
   "metadata": {},
   "outputs": [
    {
     "data": {
      "text/html": "<div>\n<style scoped>\n    .dataframe tbody tr th:only-of-type {\n        vertical-align: middle;\n    }\n\n    .dataframe tbody tr th {\n        vertical-align: top;\n    }\n\n    .dataframe thead th {\n        text-align: right;\n    }\n</style>\n<table border=\"1\" class=\"dataframe\">\n  <thead>\n    <tr style=\"text-align: right;\">\n      <th></th>\n      <th>Purchase Count</th>\n      <th>Average Purchase Price</th>\n      <th>Total Purchase Value</th>\n      <th>Avg Total Purchase per Person</th>\n    </tr>\n    <tr>\n      <th>Age Ranges</th>\n      <th></th>\n      <th></th>\n      <th></th>\n      <th></th>\n    </tr>\n  </thead>\n  <tbody>\n    <tr>\n      <td>&lt;10</td>\n      <td>23</td>\n      <td>$3.35</td>\n      <td>$77.13</td>\n      <td>$4.54</td>\n    </tr>\n    <tr>\n      <td>10-14</td>\n      <td>28</td>\n      <td>$2.96</td>\n      <td>$82.78</td>\n      <td>$3.76</td>\n    </tr>\n    <tr>\n      <td>15-19</td>\n      <td>136</td>\n      <td>$3.04</td>\n      <td>$412.89</td>\n      <td>$3.86</td>\n    </tr>\n    <tr>\n      <td>20-24</td>\n      <td>365</td>\n      <td>$3.05</td>\n      <td>$1,114.06</td>\n      <td>$4.32</td>\n    </tr>\n    <tr>\n      <td>25-29</td>\n      <td>101</td>\n      <td>$2.90</td>\n      <td>$293.00</td>\n      <td>$3.81</td>\n    </tr>\n    <tr>\n      <td>30-34</td>\n      <td>73</td>\n      <td>$2.93</td>\n      <td>$214.00</td>\n      <td>$4.12</td>\n    </tr>\n    <tr>\n      <td>35-39</td>\n      <td>41</td>\n      <td>$3.60</td>\n      <td>$147.67</td>\n      <td>$4.76</td>\n    </tr>\n    <tr>\n      <td>40+</td>\n      <td>13</td>\n      <td>$2.94</td>\n      <td>$38.24</td>\n      <td>$3.19</td>\n    </tr>\n  </tbody>\n</table>\n</div>",
      "text/plain": "            Purchase Count Average Purchase Price Total Purchase Value  \\\nAge Ranges                                                               \n<10                     23                  $3.35               $77.13   \n10-14                   28                  $2.96               $82.78   \n15-19                  136                  $3.04              $412.89   \n20-24                  365                  $3.05            $1,114.06   \n25-29                  101                  $2.90              $293.00   \n30-34                   73                  $2.93              $214.00   \n35-39                   41                  $3.60              $147.67   \n40+                     13                  $2.94               $38.24   \n\n           Avg Total Purchase per Person  \nAge Ranges                                \n<10                                $4.54  \n10-14                              $3.76  \n15-19                              $3.86  \n20-24                              $4.32  \n25-29                              $3.81  \n30-34                              $4.12  \n35-39                              $4.76  \n40+                                $3.19  "
     },
     "execution_count": 7,
     "metadata": {},
     "output_type": "execute_result"
    }
   ],
   "source": [
    "age_purchase_df = purchase_data_df\n",
    "age_purchase_df['Age Ranges'] = pd.cut(purchase_data_df[\"Age\"], bins, labels=group_names)\n",
    "age_purchase_df = age_purchase_df.groupby('Age Ranges')\n",
    "\n",
    "age_purchase_count = age_purchase_df['Purchase ID'].count()\n",
    "age_avg_pur_price = age_purchase_df['Price'].mean()\n",
    "age_total_purchase = age_purchase_df['Price'].sum()\n",
    "age_avg_purchase = age_total_purchase/age_df['Total Count']\n",
    "\n",
    "age_summary_df = pd.DataFrame(pd.concat([age_purchase_count, age_avg_pur_price, age_total_purchase, age_avg_purchase], axis=1))\n",
    "age_summary_df.columns = ['Purchase Count','Average Purchase Price', 'Total Purchase Value', 'Avg Total Purchase per Person']\n",
    "age_summary_df['Average Purchase Price'] = age_summary_df['Average Purchase Price'].map(\"${:.2f}\".format)\n",
    "age_summary_df['Avg Total Purchase per Person'] = age_summary_df['Avg Total Purchase per Person'].map(\"${:.2f}\".format)\n",
    "age_summary_df['Total Purchase Value'] = age_summary_df['Total Purchase Value'].map(\"${:,.2f}\".format)\n",
    "age_summary_df"
   ]
  },
  {
   "cell_type": "markdown",
   "metadata": {},
   "source": [
    "## Top Spenders"
   ]
  },
  {
   "cell_type": "markdown",
   "metadata": {},
   "source": [
    "* Run basic calculations to obtain the results in the table below\n",
    "\n",
    "\n",
    "* Create a summary data frame to hold the results\n",
    "\n",
    "\n",
    "* Sort the total purchase value column in descending order\n",
    "\n",
    "\n",
    "* Optional: give the displayed data cleaner formatting\n",
    "\n",
    "\n",
    "* Display a preview of the summary data frame\n",
    "\n"
   ]
  },
  {
   "cell_type": "code",
   "execution_count": 8,
   "metadata": {},
   "outputs": [
    {
     "data": {
      "text/html": "<div>\n<style scoped>\n    .dataframe tbody tr th:only-of-type {\n        vertical-align: middle;\n    }\n\n    .dataframe tbody tr th {\n        vertical-align: top;\n    }\n\n    .dataframe thead th {\n        text-align: right;\n    }\n</style>\n<table border=\"1\" class=\"dataframe\">\n  <thead>\n    <tr style=\"text-align: right;\">\n      <th></th>\n      <th>Purchase Count</th>\n      <th>Average Purchase Price</th>\n      <th>Total Purchase Value</th>\n    </tr>\n    <tr>\n      <th>SN</th>\n      <th></th>\n      <th></th>\n      <th></th>\n    </tr>\n  </thead>\n  <tbody>\n    <tr>\n      <td>Lisosia93</td>\n      <td>5</td>\n      <td>$3.79</td>\n      <td>$18.96</td>\n    </tr>\n    <tr>\n      <td>Idastidru52</td>\n      <td>4</td>\n      <td>$3.86</td>\n      <td>$15.45</td>\n    </tr>\n    <tr>\n      <td>Chamjask73</td>\n      <td>3</td>\n      <td>$4.61</td>\n      <td>$13.83</td>\n    </tr>\n    <tr>\n      <td>Iral74</td>\n      <td>4</td>\n      <td>$3.40</td>\n      <td>$13.62</td>\n    </tr>\n    <tr>\n      <td>Iskadarya95</td>\n      <td>3</td>\n      <td>$4.37</td>\n      <td>$13.10</td>\n    </tr>\n  </tbody>\n</table>\n</div>",
      "text/plain": "             Purchase Count Average Purchase Price Total Purchase Value\nSN                                                                     \nLisosia93                 5                  $3.79               $18.96\nIdastidru52               4                  $3.86               $15.45\nChamjask73                3                  $4.61               $13.83\nIral74                    4                  $3.40               $13.62\nIskadarya95               3                  $4.37               $13.10"
     },
     "execution_count": 8,
     "metadata": {},
     "output_type": "execute_result"
    }
   ],
   "source": [
    "top_spenders_group = purchase_data_df.groupby(['SN'])\n",
    "\n",
    "top_spenders_count = top_spenders_group['SN'].count()\n",
    "top_spenders_avg_pur_price = top_spenders_group['Price'].mean()\n",
    "top_spenders_total_purchase = top_spenders_group['Price'].sum()\n",
    "\n",
    "top_spenders_df = pd.DataFrame(pd.concat([top_spenders_count, top_spenders_avg_pur_price, top_spenders_total_purchase], axis=1))\n",
    "top_spenders_df.columns = ['Purchase Count','Average Purchase Price', 'Total Purchase Value']\n",
    "top_spenders_df = top_spenders_df.sort_values(by='Total Purchase Value', ascending=False)\n",
    "top_spenders_df['Average Purchase Price'] = top_spenders_df['Average Purchase Price'].map(\"${:.2f}\".format)\n",
    "top_spenders_df['Total Purchase Value'] = top_spenders_df['Total Purchase Value'].map(\"${:,.2f}\".format)\n",
    "top_spenders_df.head(5)"
   ]
  },
  {
   "cell_type": "markdown",
   "metadata": {},
   "source": [
    "## Most Popular Items"
   ]
  },
  {
   "cell_type": "markdown",
   "metadata": {},
   "source": [
    "* Retrieve the Item ID, Item Name, and Item Price columns\n",
    "\n",
    "\n",
    "* Group by Item ID and Item Name. Perform calculations to obtain purchase count, item price, and total purchase value\n",
    "\n",
    "\n",
    "* Create a summary data frame to hold the results\n",
    "\n",
    "\n",
    "* Sort the purchase count column in descending order\n",
    "\n",
    "\n",
    "* Optional: give the displayed data cleaner formatting\n",
    "\n",
    "\n",
    "* Display a preview of the summary data frame\n",
    "\n"
   ]
  },
  {
   "cell_type": "code",
   "execution_count": 9,
   "metadata": {},
   "outputs": [
    {
     "data": {
      "text/html": "<div>\n<style scoped>\n    .dataframe tbody tr th:only-of-type {\n        vertical-align: middle;\n    }\n\n    .dataframe tbody tr th {\n        vertical-align: top;\n    }\n\n    .dataframe thead th {\n        text-align: right;\n    }\n</style>\n<table border=\"1\" class=\"dataframe\">\n  <thead>\n    <tr style=\"text-align: right;\">\n      <th></th>\n      <th></th>\n      <th>Purchase Count</th>\n      <th>Item Price</th>\n      <th>Total Purchase Value</th>\n    </tr>\n    <tr>\n      <th>Item ID</th>\n      <th>Item Name</th>\n      <th></th>\n      <th></th>\n      <th></th>\n    </tr>\n  </thead>\n  <tbody>\n    <tr>\n      <td>178</td>\n      <td>Oathbreaker, Last Hope of the Breaking Storm</td>\n      <td>12</td>\n      <td>$4.23</td>\n      <td>$50.76</td>\n    </tr>\n    <tr>\n      <td>82</td>\n      <td>Nirvana</td>\n      <td>9</td>\n      <td>$4.90</td>\n      <td>$44.10</td>\n    </tr>\n    <tr>\n      <td>145</td>\n      <td>Fiery Glass Crusader</td>\n      <td>9</td>\n      <td>$4.58</td>\n      <td>$41.22</td>\n    </tr>\n    <tr>\n      <td>92</td>\n      <td>Final Critic</td>\n      <td>8</td>\n      <td>$4.88</td>\n      <td>$39.04</td>\n    </tr>\n    <tr>\n      <td>103</td>\n      <td>Singed Scalpel</td>\n      <td>8</td>\n      <td>$4.35</td>\n      <td>$34.80</td>\n    </tr>\n  </tbody>\n</table>\n</div>",
      "text/plain": "                                                      Purchase Count  \\\nItem ID Item Name                                                      \n178     Oathbreaker, Last Hope of the Breaking Storm              12   \n82      Nirvana                                                    9   \n145     Fiery Glass Crusader                                       9   \n92      Final Critic                                               8   \n103     Singed Scalpel                                             8   \n\n                                                     Item Price  \\\nItem ID Item Name                                                 \n178     Oathbreaker, Last Hope of the Breaking Storm      $4.23   \n82      Nirvana                                           $4.90   \n145     Fiery Glass Crusader                              $4.58   \n92      Final Critic                                      $4.88   \n103     Singed Scalpel                                    $4.35   \n\n                                                     Total Purchase Value  \nItem ID Item Name                                                          \n178     Oathbreaker, Last Hope of the Breaking Storm               $50.76  \n82      Nirvana                                                    $44.10  \n145     Fiery Glass Crusader                                       $41.22  \n92      Final Critic                                               $39.04  \n103     Singed Scalpel                                             $34.80  "
     },
     "execution_count": 9,
     "metadata": {},
     "output_type": "execute_result"
    }
   ],
   "source": [
    "most_popular_df = purchase_data_df[['Item ID', 'Item Name', 'Price']]\n",
    "most_popular_items_group = most_popular_df.groupby(['Item ID', 'Item Name'])\n",
    "\n",
    "most_popular_count = most_popular_items_group['Item Name'].count()\n",
    "most_popular_total_purchase = most_popular_items_group['Price'].sum()\n",
    "most_popular_price = most_popular_total_purchase/most_popular_count\n",
    "\n",
    "most_popular_df = pd.DataFrame(pd.concat([most_popular_count, most_popular_price, most_popular_total_purchase], axis=1))\n",
    "most_popular_df.columns = ['Purchase Count','Item Price', 'Total Purchase Value']\n",
    "most_popular_df_cleaned = most_popular_df.sort_values(by='Total Purchase Value', ascending=False)\n",
    "most_popular_df_cleaned['Item Price'] = most_popular_df_cleaned['Item Price'].map(\"${:.2f}\".format)\n",
    "most_popular_df_cleaned['Total Purchase Value'] = most_popular_df_cleaned['Total Purchase Value'].map(\"${:,.2f}\".format)\n",
    "\n",
    "most_popular_df_cleaned.head(5)"
   ]
  },
  {
   "cell_type": "markdown",
   "metadata": {},
   "source": [
    "## Most Profitable Items"
   ]
  },
  {
   "cell_type": "markdown",
   "metadata": {},
   "source": [
    "* Sort the above table by total purchase value in descending order\n",
    "\n",
    "\n",
    "* Optional: give the displayed data cleaner formatting\n",
    "\n",
    "\n",
    "* Display a preview of the data frame\n",
    "\n"
   ]
  },
  {
   "cell_type": "code",
   "execution_count": 10,
   "metadata": {},
   "outputs": [
    {
     "data": {
      "text/html": "<div>\n<style scoped>\n    .dataframe tbody tr th:only-of-type {\n        vertical-align: middle;\n    }\n\n    .dataframe tbody tr th {\n        vertical-align: top;\n    }\n\n    .dataframe thead th {\n        text-align: right;\n    }\n</style>\n<table border=\"1\" class=\"dataframe\">\n  <thead>\n    <tr style=\"text-align: right;\">\n      <th></th>\n      <th></th>\n      <th>Purchase Count</th>\n      <th>Item Price</th>\n      <th>Total Purchase Value</th>\n    </tr>\n    <tr>\n      <th>Item ID</th>\n      <th>Item Name</th>\n      <th></th>\n      <th></th>\n      <th></th>\n    </tr>\n  </thead>\n  <tbody>\n    <tr>\n      <td>178</td>\n      <td>Oathbreaker, Last Hope of the Breaking Storm</td>\n      <td>12</td>\n      <td>$4.23</td>\n      <td>$50.76</td>\n    </tr>\n    <tr>\n      <td>82</td>\n      <td>Nirvana</td>\n      <td>9</td>\n      <td>$4.90</td>\n      <td>$44.10</td>\n    </tr>\n    <tr>\n      <td>145</td>\n      <td>Fiery Glass Crusader</td>\n      <td>9</td>\n      <td>$4.58</td>\n      <td>$41.22</td>\n    </tr>\n    <tr>\n      <td>92</td>\n      <td>Final Critic</td>\n      <td>8</td>\n      <td>$4.88</td>\n      <td>$39.04</td>\n    </tr>\n    <tr>\n      <td>103</td>\n      <td>Singed Scalpel</td>\n      <td>8</td>\n      <td>$4.35</td>\n      <td>$34.80</td>\n    </tr>\n  </tbody>\n</table>\n</div>",
      "text/plain": "                                                      Purchase Count  \\\nItem ID Item Name                                                      \n178     Oathbreaker, Last Hope of the Breaking Storm              12   \n82      Nirvana                                                    9   \n145     Fiery Glass Crusader                                       9   \n92      Final Critic                                               8   \n103     Singed Scalpel                                             8   \n\n                                                     Item Price  \\\nItem ID Item Name                                                 \n178     Oathbreaker, Last Hope of the Breaking Storm      $4.23   \n82      Nirvana                                           $4.90   \n145     Fiery Glass Crusader                              $4.58   \n92      Final Critic                                      $4.88   \n103     Singed Scalpel                                    $4.35   \n\n                                                     Total Purchase Value  \nItem ID Item Name                                                          \n178     Oathbreaker, Last Hope of the Breaking Storm               $50.76  \n82      Nirvana                                                    $44.10  \n145     Fiery Glass Crusader                                       $41.22  \n92      Final Critic                                               $39.04  \n103     Singed Scalpel                                             $34.80  "
     },
     "execution_count": 10,
     "metadata": {},
     "output_type": "execute_result"
    }
   ],
   "source": [
    "most_profitable_df_cleaned = most_popular_df.sort_values(by='Total Purchase Value', ascending=False)\n",
    "most_profitable_df_cleaned['Item Price'] = most_profitable_df_cleaned['Item Price'].map(\"${:.2f}\".format)\n",
    "most_profitable_df_cleaned['Total Purchase Value'] = most_profitable_df_cleaned['Total Purchase Value'].map(\"${:,.2f}\".format)\n",
    "most_profitable_df_cleaned.head(5)"
   ]
  },
  {
   "cell_type": "markdown",
   "metadata": {},
   "source": [
    "## Written Analysis\n",
    "\n",
    "Trend 1: Unsurprisingly given that we are talking about online gaming, males vastly outnumber any other gender classification in regards to the game's purchasing playerbase.\n",
    "\n",
    "Trend 2: However, females and other/non-disclosed genders that purchase items spend more on average than males. Roughly 40 to 50 cents more per person, in fact.\n",
    "\n",
    "Trend 3: \n"
   ]
  }
 ],
 "metadata": {
  "anaconda-cloud": {},
  "kernel_info": {
   "name": "python3"
  },
  "kernelspec": {
   "display_name": "Python 3",
   "language": "python",
   "name": "python3"
  },
  "language_info": {
   "codemirror_mode": {
    "name": "ipython",
    "version": 3
   },
   "file_extension": ".py",
   "mimetype": "text/x-python",
   "name": "python",
   "nbconvert_exporter": "python",
   "pygments_lexer": "ipython3",
   "version": "3.7.4-final"
  },
  "latex_envs": {
   "LaTeX_envs_menu_present": true,
   "autoclose": false,
   "autocomplete": true,
   "bibliofile": "biblio.bib",
   "cite_by": "apalike",
   "current_citInitial": 1,
   "eqLabelWithNumbers": true,
   "eqNumInitial": 1,
   "hotkeys": {
    "equation": "Ctrl-E",
    "itemize": "Ctrl-I"
   },
   "labels_anchors": false,
   "latex_user_defs": false,
   "report_style_numbering": false,
   "user_envs_cfg": false
  },
  "nteract": {
   "version": "0.2.0"
  }
 },
 "nbformat": 4,
 "nbformat_minor": 2
}